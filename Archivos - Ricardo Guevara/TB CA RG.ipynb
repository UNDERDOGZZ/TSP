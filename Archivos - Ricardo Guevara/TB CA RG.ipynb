{
 "cells": [
  {
   "cell_type": "code",
   "execution_count": 6,
   "metadata": {},
   "outputs": [],
   "source": [
    "import csv\n",
    "\n",
    "def read(fileName):\n",
    "    array = []\n",
    "    with open(fileName) as csvfile:\n",
    "        file = csv.reader(csvfile, delimiter=',')\n",
    "        idElem = -1\n",
    "        for row in file:\n",
    "            if idElem != -1:\n",
    "                elem = {}\n",
    "                elem[\"name\"] = row[5]\n",
    "                elem[\"x\"] = float(row[15])\n",
    "                elem[\"y\"] = float(row[16])\n",
    "                array.append(elem)\n",
    "            \n",
    "            idElem += 1\n",
    "        \n",
    "    return array\n",
    "                \n",
    "                "
   ]
  },
  {
   "cell_type": "code",
   "execution_count": 1,
   "metadata": {},
   "outputs": [],
   "source": [
    "def readCPxDto(fileName):\n",
    "    dictionary = {}\n",
    "    cp = {}\n",
    "    places = []\n",
    "    with open(fileName) as csvfile:\n",
    "        file = csv.reader(csvfile, delimiter=',')\n",
    "        idElem = -1\n",
    "        for row in file:\n",
    "            if idElem != -1:\n",
    "                elem = {}\n",
    "                elem[\"name\"] = row[5]\n",
    "                elem[\"x\"] = float(row[15])\n",
    "                elem[\"y\"] = float(row[16])\n",
    "                if row[1] not in dictionary:\n",
    "                    dictionary[row[1]] = []\n",
    "                    dictionary[row[1]].append(elem)\n",
    "                    cp[row[1]] = []\n",
    "                    cp[row[1]].append(elem['name'])\n",
    "                    places.append(row[1])\n",
    "                else:\n",
    "                    dictionary[row[1]].append(elem)\n",
    "                    cp[row[1]].append(elem['name'])\n",
    "                del elem\n",
    "            \n",
    "            idElem += 1\n",
    "        \n",
    "    return dictionary, places, cp\n"
   ]
  },
  {
   "cell_type": "code",
   "execution_count": 2,
   "metadata": {},
   "outputs": [],
   "source": [
    "def calculateDistances(dictionary, department):\n",
    "    \n",
    "    distance_matrix = []\n",
    "    row = []\n",
    "    n = len(dictionary[department])\n",
    "    for fil in range(n):\n",
    "        for col in range(n):\n",
    "            if fil == col:\n",
    "                row.append(0)\n",
    "            else:\n",
    "                operation = ((dictionary[department][col][\"x\"]) - (dictionary[department][fil][\"x\"]))**2 + ((dictionary[department][col][\"y\"] - dictionary[department][fil][\"y\"]))**2\n",
    "                distance = operation**0.5\n",
    "                row.append(distance)\n",
    "        distance_matrix.append(row)\n",
    "        row = []\n",
    "    return distance_matrix\n",
    "\n"
   ]
  },
  {
   "cell_type": "code",
   "execution_count": 4,
   "metadata": {},
   "outputs": [],
   "source": [
    "def calculateDistancesDictionary(dictionary, departments):\n",
    "    \n",
    "    n = len(departments)\n",
    "    distance_dictionary = {}\n",
    "\n",
    "    for pos in range(n):\n",
    "        dep = departments[pos]\n",
    "        distance_dictionary[dep] = calculateDistances(dictionary, dep)\n",
    "\n",
    "    return distance_dictionary\n",
    "\n",
    "\n",
    "\n"
   ]
  },
  {
   "cell_type": "code",
   "execution_count": 5,
   "metadata": {},
   "outputs": [],
   "source": [
    "placesDictionary, places, cp = readCPxDto('test.csv')\n",
    "distancesDictionary = calculateDistancesDictionary(placesDictionary, places)\n",
    "\n"
   ]
  },
  {
   "cell_type": "code",
   "execution_count": 114,
   "metadata": {},
   "outputs": [
    {
     "name": "stdout",
     "output_type": "stream",
     "text": [
      "a\n"
     ]
    }
   ],
   "source": [
    "print(cp['JUNIN'][0][1])"
   ]
  },
  {
   "cell_type": "code",
   "execution_count": 39,
   "metadata": {},
   "outputs": [
    {
     "ename": "NameError",
     "evalue": "name 'places' is not defined",
     "output_type": "error",
     "traceback": [
      "\u001b[0;31m---------------------------------------------------------------------------\u001b[0m",
      "\u001b[0;31mNameError\u001b[0m                                 Traceback (most recent call last)",
      "\u001b[0;32m<ipython-input-39-b4e791ceebfd>\u001b[0m in \u001b[0;36m<module>\u001b[0;34m\u001b[0m\n\u001b[0;32m----> 1\u001b[0;31m \u001b[0mprint\u001b[0m\u001b[0;34m(\u001b[0m\u001b[0mplaces\u001b[0m\u001b[0;34m)\u001b[0m\u001b[0;34m\u001b[0m\u001b[0;34m\u001b[0m\u001b[0m\n\u001b[0m",
      "\u001b[0;31mNameError\u001b[0m: name 'places' is not defined"
     ]
    }
   ],
   "source": [
    "print(places)"
   ]
  },
  {
   "cell_type": "code",
   "execution_count": 8,
   "metadata": {},
   "outputs": [
    {
     "name": "stdout",
     "output_type": "stream",
     "text": [
      "['JUNIN', 'ICA', 'CUSCO', 'TUMBES', 'LIMA', 'SAN MARTIN', 'PIURA', 'LAMBAYEQUE', 'ANCASH', 'AYACUCHO', 'AMAZONAS', 'CAJAMARCA', 'APURIMAC', 'PUNO']\n"
     ]
    }
   ],
   "source": [
    "print(places)"
   ]
  },
  {
   "cell_type": "code",
   "execution_count": 9,
   "metadata": {},
   "outputs": [
    {
     "name": "stdout",
     "output_type": "stream",
     "text": [
      "Ana Jara Velasquez\n"
     ]
    }
   ],
   "source": [
    "print(placesDictionary[places[1]][1]['name'])"
   ]
  },
  {
   "cell_type": "code",
   "execution_count": 10,
   "metadata": {},
   "outputs": [
    {
     "data": {
      "text/plain": [
       "2"
      ]
     },
     "execution_count": 10,
     "metadata": {},
     "output_type": "execute_result"
    }
   ],
   "source": [
    "len(placesDictionary[places[0]])"
   ]
  },
  {
   "cell_type": "code",
   "execution_count": 11,
   "metadata": {},
   "outputs": [
    {
     "ename": "SyntaxError",
     "evalue": "invalid syntax (<ipython-input-11-c2c0a2715781>, line 1)",
     "output_type": "error",
     "traceback": [
      "\u001b[0;36m  File \u001b[0;32m\"<ipython-input-11-c2c0a2715781>\"\u001b[0;36m, line \u001b[0;32m1\u001b[0m\n\u001b[0;31m    def crearArrCP(placesD, places)\u001b[0m\n\u001b[0m                                   ^\u001b[0m\n\u001b[0;31mSyntaxError\u001b[0m\u001b[0;31m:\u001b[0m invalid syntax\n"
     ]
    }
   ],
   "source": [
    "def crearArrCP(placesD, places)\n",
    "    n=len(placesD)\n",
    "    for i in range n:\n",
    "        \n",
    "        for "
   ]
  },
  {
   "cell_type": "code",
   "execution_count": null,
   "metadata": {},
   "outputs": [],
   "source": [
    "print(placesDictionary)"
   ]
  },
  {
   "cell_type": "code",
   "execution_count": 65,
   "metadata": {},
   "outputs": [],
   "source": [
    "import csv\n",
    "import math\n",
    "import heapq as hq\n",
    "def readFile(filename):\n",
    "    dictionary = {}\n",
    "    with open(filename,encoding='utf-8-sig') as csvfile:\n",
    "        file = csv.reader(csvfile, delimiter=',')\n",
    "        contador=1\n",
    "        for row in file:\n",
    "                elem = {}\n",
    "                elem[\"id\"]=row[0]\n",
    "                elem[\"name\"] = row[1]\n",
    "                elem[\"x\"] = float(row[2])\n",
    "                elem[\"y\"] = float(row[3])\n",
    "                dictionary[contador] = elem\n",
    "                contador+=1\n",
    "                del elem\n",
    "    return dictionary\n",
    "\n",
    "\n"
   ]
  },
  {
   "cell_type": "code",
   "execution_count": 66,
   "metadata": {},
   "outputs": [],
   "source": [
    "def calculateDistance(x1,y1,x2,y2):        \n",
    "    return ((x1-x2)**2 + (y1-y2)**2)**(0.5)\n",
    "    \n",
    "\n"
   ]
  },
  {
   "cell_type": "code",
   "execution_count": 73,
   "metadata": {},
   "outputs": [],
   "source": [
    "def prim(distancia,nombre):\n",
    "    n = len(distancia)\n",
    "    dist = [math.inf]*n\n",
    "    path = [None]*n\n",
    "    visited = [False]*n\n",
    "    q = []\n",
    "    hq.heappush(q, (0, 0))\n",
    "    contador=0\n",
    "    while len(q) > 0:\n",
    "        #print(contador)\n",
    "        contador+=1\n",
    "        _, u = hq.heappop(q)\n",
    "        if not visited[u]:\n",
    "            visited[u] = True\n",
    "            for v, w in distancia[u]:\n",
    "                if not visited[v] and w < dist[v] and w!=0 :\n",
    "                    dist[v] = w\n",
    "                    path[v] = nombre[v][u]\n",
    "                    hq.heappush(q, (w, v))\n",
    "    print(path)\n",
    "    print(len(path))\n"
   ]
  },
  {
   "cell_type": "code",
   "execution_count": null,
   "metadata": {},
   "outputs": [],
   "source": []
  },
  {
   "cell_type": "code",
   "execution_count": 74,
   "metadata": {},
   "outputs": [],
   "source": [
    "def makingDictonarys(filename):\n",
    "    dictionary = readFile(filename)\n",
    "    distancia=[]\n",
    "    nombre=[]\n",
    "    for i in range(1,len(dictionary)+1):\n",
    "        aux=[]\n",
    "        aux2=[]\n",
    "        for j in range(1,len(dictionary)+1):\n",
    "            aux.append((int(dictionary[j][\"id\"]),calculateDistance(float(dictionary[i][\"x\"]),float(dictionary[i][\"y\"]), float(dictionary[j][\"x\"]),float(dictionary[j][\"y\"]))))\n",
    "            aux2.append(dictionary[j][\"name\"])\n",
    "            #aux.append((j,calculateDistance(float(dictionary[i][\"x\"]),float(dictionary[i][\"y\"]), float(dictionary[j][\"x\"]),float(dictionary[j][\"y\"]))))\n",
    "        distancia.append(aux)\n",
    "        nombre.append(aux2)\n",
    "        del aux\n",
    "        del aux2\n",
    "    #print(len(distancia))\n",
    "    prim(distancia,nombre)\n",
    "    "
   ]
  },
  {
   "cell_type": "code",
   "execution_count": 75,
   "metadata": {
    "scrolled": false
   },
   "outputs": [
    {
     "name": "stdout",
     "output_type": "stream",
     "text": [
      "[None, 'Asociaci??n de Vivienda Paraiso II', 'Campo Verde', 'Trajin', 'Sumac Wassi', 'Chancarani', 'Alto Milagro', 'Cashapampa Chico', 'Villa Rica', 'Huayanay', 'Villa Flor', 'Cusharapa', 'Bella Vista', 'Huamampallpa', 'Primavera', 'Villa Flor', 'Loma Blanca', 'La Manga', 'Nuevo Gramalotal', 'Villa Rica', 'Andahuaylas', 'Shirapampa', 'Palca', 'Ampotaje', 'Sayhuayoc', 'Huayjohuasi', 'Anansaya', 'Surapunco', 'Huamampallpa', 'Chancarani', 'Huruhuacca', 'Ccilccata', 'Huamampallpa', 'Japu Japu', 'Santa Rosa', 'Cochapampa', 'San Jose', 'Fundo Rio Frio', 'Hacienda Santa Filomena', 'La Laguna Alta', 'Nuevo Jerusalen (La Perla)', 'San Lorenzo', 'Tomaque', 'Hawai', 'Los Huayos', 'Pacaypite', 'Hacienda San Juan de Chato', 'Tomaque', 'La Laguna Alta', 'Union Las Vueltas', 'Nuevo Zona More', 'Nuevo San Jose', 'La Vega El Puente', 'Sector La Union', 'San Francisco', 'Sauce', 'La Libertad', 'Mirador', 'Sauce', 'Higuerones', 'Athahualpa', 'Hawai', 'El Horcon La Piria', 'Los Huayos', 'La Union', 'Puca Puca', 'Chogopata', 'Shumacpampa', 'Justuhuanca', 'San Antonio de Colpa', 'Cashapampa Chico', 'Cangra', 'Ushcumachay', 'Witsu', 'Puente Grande', 'San Luis Enoc Flor de un Dia', 'Mojon', 'Ilauro', 'Fundo Maria', 'Timoc / Tincoc', 'Nuevo Nazaret', 'Raran Pampa', 'Ushcumachay', 'Huacahuin Chico', 'Ogobamba', 'Huayaopuco', 'Manantial', 'Fundo Maria', 'Pachamu??a', 'Huacahuin Chico', 'Tayaragra', 'Jacagaranan', 'Cusharapa', 'Tayaragra', 'Huachanga', 'Cumaria', 'Cashacuta', 'Casacancha', 'Copac']\n",
      "99\n"
     ]
    }
   ],
   "source": [
    "makingDictonarys('cincuenta.csv')"
   ]
  },
  {
   "cell_type": "code",
   "execution_count": 59,
   "metadata": {},
   "outputs": [
    {
     "ename": "NameError",
     "evalue": "name 'nombre' is not defined",
     "output_type": "error",
     "traceback": [
      "\u001b[0;31m---------------------------------------------------------------------------\u001b[0m",
      "\u001b[0;31mNameError\u001b[0m                                 Traceback (most recent call last)",
      "\u001b[0;32m<ipython-input-59-351eb0db7422>\u001b[0m in \u001b[0;36m<module>\u001b[0;34m\u001b[0m\n\u001b[0;32m----> 1\u001b[0;31m \u001b[0mprint\u001b[0m\u001b[0;34m(\u001b[0m\u001b[0mnombre\u001b[0m\u001b[0;34m[\u001b[0m\u001b[0;36m1\u001b[0m\u001b[0;34m]\u001b[0m\u001b[0;34m[\u001b[0m\u001b[0;36m2\u001b[0m\u001b[0;34m]\u001b[0m\u001b[0;34m)\u001b[0m\u001b[0;34m\u001b[0m\u001b[0;34m\u001b[0m\u001b[0m\n\u001b[0m",
      "\u001b[0;31mNameError\u001b[0m: name 'nombre' is not defined"
     ]
    }
   ],
   "source": []
  },
  {
   "cell_type": "code",
   "execution_count": null,
   "metadata": {},
   "outputs": [],
   "source": [
    "print(placesDictionary['AYACUCHO'])"
   ]
  },
  {
   "cell_type": "code",
   "execution_count": null,
   "metadata": {},
   "outputs": [],
   "source": [
    "print(distancesDictionary['AYACUCHO'])"
   ]
  },
  {
   "cell_type": "code",
   "execution_count": 94,
   "metadata": {},
   "outputs": [],
   "source": [
    "def prim1(placesD, distancesD, places):\n",
    "    cont=len(distancesD)\n",
    "    for i in range(cont):\n",
    "        n = len(placesD[places[i]])\n",
    "        visited = [False]*n\n",
    "        dist = [math.inf]*n\n",
    "        path = [None]*n\n",
    "        q = []\n",
    "        hq.heappush(q, (0, 0))\n",
    "        while len(q) > 0:\n",
    "            _, u = hq.heappop(q)\n",
    "            if not visited[u]:\n",
    "                visited[u] = True\n",
    "                for v, w in distancesD[places[i]][u]:\n",
    "                    if not visited[v] and w < dist[v] and w!=0 :\n",
    "                        dist[v] = w\n",
    "                        path[v].append(places[v][u])\n",
    "                        hq.heappush(q, (w, v))\n",
    "    print(path)\n"
   ]
  },
  {
   "cell_type": "code",
   "execution_count": null,
   "metadata": {},
   "outputs": [],
   "source": [
    "prim1(placesDictionary, distancesDictionary, places)"
   ]
  },
  {
   "cell_type": "code",
   "execution_count": null,
   "metadata": {},
   "outputs": [],
   "source": [
    "print(distancesDictionary['AYACUCHO'][1])"
   ]
  },
  {
   "cell_type": "code",
   "execution_count": 54,
   "metadata": {},
   "outputs": [],
   "source": [
    "def allDistances(filename):\n",
    "    placesDictionary, places, cp = readCPxDto('test.csv')\n",
    "    dis = {}\n",
    "    abc = {}\n",
    "    for a in range(len(places)):\n",
    "        dpto = places[a]\n",
    "        dis[dpto] = []\n",
    "        abc[dpto] = []\n",
    "        for b in range (len(cp[dpto])):\n",
    "            aux = []\n",
    "            aux2 = []\n",
    "            for c in range (len(cp[dpto])):\n",
    "                aux.append((int(c), calculateDistance(float(placesDictionary[dpto][b][\"x\"]),float(placesDictionary[dpto][b][\"y\"]), float(placesDictionary[dpto][c][\"x\"]),float(placesDictionary[dpto][c][\"y\"]))))\n",
    "                aux2.append(placesDictionary[dpto][c][\"name\"])\n",
    "            dis[dpto].append(aux)\n",
    "            abc[dpto].append(aux2)\n",
    "            del aux\n",
    "            del aux2\n",
    "    #print(dis)\n",
    "    prim(dis, abc, places)"
   ]
  },
  {
   "cell_type": "code",
   "execution_count": 52,
   "metadata": {},
   "outputs": [
    {
     "ename": "TypeError",
     "evalue": "prim() takes 2 positional arguments but 3 were given",
     "output_type": "error",
     "traceback": [
      "\u001b[0;31m---------------------------------------------------------------------------\u001b[0m",
      "\u001b[0;31mTypeError\u001b[0m                                 Traceback (most recent call last)",
      "\u001b[0;32m<ipython-input-52-d0f3fac37954>\u001b[0m in \u001b[0;36m<module>\u001b[0;34m\u001b[0m\n\u001b[0;32m----> 1\u001b[0;31m \u001b[0mallDistances\u001b[0m\u001b[0;34m(\u001b[0m\u001b[0;34m'test.csv'\u001b[0m\u001b[0;34m)\u001b[0m\u001b[0;34m\u001b[0m\u001b[0;34m\u001b[0m\u001b[0m\n\u001b[0m",
      "\u001b[0;32m<ipython-input-51-4054bdc85565>\u001b[0m in \u001b[0;36mallDistances\u001b[0;34m(filename)\u001b[0m\n\u001b[1;32m     18\u001b[0m             \u001b[0;32mdel\u001b[0m \u001b[0maux2\u001b[0m\u001b[0;34m\u001b[0m\u001b[0;34m\u001b[0m\u001b[0m\n\u001b[1;32m     19\u001b[0m     \u001b[0;31m#print(dis)\u001b[0m\u001b[0;34m\u001b[0m\u001b[0;34m\u001b[0m\u001b[0;34m\u001b[0m\u001b[0m\n\u001b[0;32m---> 20\u001b[0;31m     \u001b[0mprim\u001b[0m\u001b[0;34m(\u001b[0m\u001b[0mdis\u001b[0m\u001b[0;34m,\u001b[0m \u001b[0mabc\u001b[0m\u001b[0;34m,\u001b[0m \u001b[0mplaces\u001b[0m\u001b[0;34m)\u001b[0m\u001b[0;34m\u001b[0m\u001b[0;34m\u001b[0m\u001b[0m\n\u001b[0m",
      "\u001b[0;31mTypeError\u001b[0m: prim() takes 2 positional arguments but 3 were given"
     ]
    }
   ],
   "source": [
    "allDistances('test.csv')"
   ]
  },
  {
   "cell_type": "code",
   "execution_count": 88,
   "metadata": {},
   "outputs": [],
   "source": [
    "test={}\n",
    "test['lol']=[]\n",
    "aux=1\n",
    "test['lol'].append(aux)"
   ]
  },
  {
   "cell_type": "code",
   "execution_count": 21,
   "metadata": {},
   "outputs": [
    {
     "name": "stdout",
     "output_type": "stream",
     "text": [
      "{'lol': [1]}\n"
     ]
    }
   ],
   "source": [
    "print(test)"
   ]
  },
  {
   "cell_type": "code",
   "execution_count": 46,
   "metadata": {},
   "outputs": [],
   "source": [
    "import math\n",
    "import heapq as hq\n",
    "def prim3(distancia,nombre,dptos):\n",
    "    for a in range(len(dptos)):\n",
    "        dpto = dptos[a]\n",
    "        n = len(nombre[dpto])\n",
    "        dist = [math.inf]*n\n",
    "        path = [None]*n\n",
    "        #print(path)\n",
    "        visited = [False]*n\n",
    "        q = []\n",
    "        hq.heappush(q, (0, 0))\n",
    "        contador=0\n",
    "        while len(q) > 0:\n",
    "            #print(contador)\n",
    "            contador+=1\n",
    "            _, u = hq.heappop(q)\n",
    "            if not visited[u]:\n",
    "                visited[u] = True\n",
    "                for v, w in distancia[dpto][u]:\n",
    "                    if not visited[v] and w < dist[v] and w!=0.0:\n",
    "                        dist[v] = w\n",
    "                        path[v] = nombre[dpto][v][u]\n",
    "                        #print(path[v])\n",
    "                        hq.heappush(q, (w, v))\n",
    "        print(path)\n"
   ]
  },
  {
   "cell_type": "code",
   "execution_count": 116,
   "metadata": {},
   "outputs": [
    {
     "ename": "NameError",
     "evalue": "name 'abc' is not defined",
     "output_type": "error",
     "traceback": [
      "\u001b[0;31m---------------------------------------------------------------------------\u001b[0m",
      "\u001b[0;31mNameError\u001b[0m                                 Traceback (most recent call last)",
      "\u001b[0;32m<ipython-input-116-e4abaefc578b>\u001b[0m in \u001b[0;36m<module>\u001b[0;34m\u001b[0m\n\u001b[0;32m----> 1\u001b[0;31m \u001b[0mprint\u001b[0m\u001b[0;34m(\u001b[0m\u001b[0mabc\u001b[0m\u001b[0;34m[\u001b[0m\u001b[0;34m'JUNIN'\u001b[0m\u001b[0;34m]\u001b[0m\u001b[0;34m[\u001b[0m\u001b[0;36m1\u001b[0m\u001b[0;34m]\u001b[0m\u001b[0;34m[\u001b[0m\u001b[0;36m1\u001b[0m\u001b[0;34m]\u001b[0m\u001b[0;34m)\u001b[0m\u001b[0;34m\u001b[0m\u001b[0;34m\u001b[0m\u001b[0m\n\u001b[0m",
      "\u001b[0;31mNameError\u001b[0m: name 'abc' is not defined"
     ]
    }
   ],
   "source": [
    "print(abc['JUNIN'][1][1])"
   ]
  },
  {
   "cell_type": "code",
   "execution_count": null,
   "metadata": {},
   "outputs": [],
   "source": []
  }
 ],
 "metadata": {
  "kernelspec": {
   "display_name": "Python 3",
   "language": "python",
   "name": "python3"
  },
  "language_info": {
   "codemirror_mode": {
    "name": "ipython",
    "version": 3
   },
   "file_extension": ".py",
   "mimetype": "text/x-python",
   "name": "python",
   "nbconvert_exporter": "python",
   "pygments_lexer": "ipython3",
   "version": "3.7.3"
  }
 },
 "nbformat": 4,
 "nbformat_minor": 2
}

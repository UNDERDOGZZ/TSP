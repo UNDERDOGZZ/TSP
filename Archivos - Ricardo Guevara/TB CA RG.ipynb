{
 "cells": [
  {
   "cell_type": "code",
   "execution_count": 1,
   "metadata": {},
   "outputs": [],
   "source": [
    "import csv\n",
    "\n",
    "def read(fileName):\n",
    "    array = []\n",
    "    with open(fileName) as csvfile:\n",
    "        file = csv.reader(csvfile, delimiter=',')\n",
    "        idElem = -1\n",
    "        for row in file:\n",
    "            if idElem != -1:\n",
    "                elem = {}\n",
    "                elem[\"name\"] = row[5]\n",
    "                elem[\"x\"] = float(row[15])\n",
    "                elem[\"y\"] = float(row[16])\n",
    "                array.append(elem)\n",
    "            \n",
    "            idElem += 1\n",
    "        \n",
    "    return array\n",
    "                \n",
    "                "
   ]
  },
  {
   "cell_type": "code",
   "execution_count": 1,
   "metadata": {},
   "outputs": [],
   "source": [
    "def readCPxDto(fileName):\n",
    "    dictionary = {}\n",
    "    places = []\n",
    "    with open(fileName) as csvfile:\n",
    "        file = csv.reader(csvfile, delimiter=',')\n",
    "        idElem = -1\n",
    "        for row in file:\n",
    "            if idElem != -1:\n",
    "                elem = {}\n",
    "                elem[\"name\"] = row[5]\n",
    "                elem[\"x\"] = float(row[15])\n",
    "                elem[\"y\"] = float(row[16])\n",
    "                if row[1] not in dictionary:\n",
    "                    dictionary[row[1]] = []\n",
    "                    dictionary[row[1]].append(elem)\n",
    "                    places.append(row[1])\n",
    "                else:\n",
    "                    dictionary[row[1]].append(elem)\n",
    "                del elem\n",
    "            \n",
    "            idElem += 1\n",
    "        \n",
    "    return dictionary, places\n"
   ]
  },
  {
   "cell_type": "code",
   "execution_count": 3,
   "metadata": {},
   "outputs": [],
   "source": [
    "def calculateDistances(dictionary, department):\n",
    "    \n",
    "    distance_matrix = []\n",
    "    row = []\n",
    "    n = len(dictionary[department])\n",
    "    for fil in range(n):\n",
    "        for col in range(n):\n",
    "            if fil == col:\n",
    "                row.append(0)\n",
    "            else:\n",
    "                operation = ((dictionary[department][col][\"x\"]) - (dictionary[department][fil][\"x\"]))**2 + ((dictionary[department][col][\"y\"] - dictionary[department][fil][\"y\"]))**2\n",
    "                distance = operation**0.5\n",
    "                row.append(distance)\n",
    "        distance_matrix.append(row)\n",
    "        row = []\n",
    "    return distance_matrix\n",
    "\n"
   ]
  },
  {
   "cell_type": "code",
   "execution_count": 4,
   "metadata": {},
   "outputs": [],
   "source": [
    "def calculateDistancesDictionary(dictionary, departments):\n",
    "    \n",
    "    n = len(departments)\n",
    "    distance_dictionary = {}\n",
    "\n",
    "    for pos in range(n):\n",
    "        dep = departments[pos]\n",
    "        distance_dictionary[dep] = calculateDistances(dictionary, dep)\n",
    "\n",
    "    return distance_dictionary\n",
    "\n",
    "\n",
    "\n"
   ]
  },
  {
   "cell_type": "code",
   "execution_count": 8,
   "metadata": {},
   "outputs": [],
   "source": [
    "placesDictionary, places = readCPxDto('test.csv')\n",
    "distancesDictionary = calculateDistancesDictionary(palcesDictionary, places)\n"
   ]
  },
  {
   "cell_type": "code",
   "execution_count": 6,
   "metadata": {},
   "outputs": [
    {
     "name": "stdout",
     "output_type": "stream",
     "text": [
      "{'JUNIN': [[0, 0.19235354339982622], [0.19235354339982622, 0]], 'ICA': [[0, 0.10056573988137786], [0.10056573988137786, 0]], 'CUSCO': [[0, 1.5203065545139727, 1.6509118402378058], [1.5203065545139727, 0, 0.7929293576969236], [1.6509118402378058, 0.7929293576969236, 0]], 'TUMBES': [[0]], 'LIMA': [[0]], 'SAN MARTIN': [[0, 0.5056584175920917], [0.5056584175920917, 0]], 'PIURA': [[0, 0.3883620040665112, 1.0146177202130877, 1.1352018097973355, 1.3381270093487656, 1.1747264799984956, 1.002595523430498, 1.1317185585184908], [0.3883620040665112, 0, 1.0006672241730856, 1.114775293524681, 1.3309805671177026, 1.1575319771025767, 0.9720647680600809, 1.1261281469489326], [1.0146177202130877, 1.0006672241730856, 0, 0.12065981336469238, 0.3322144496506975, 0.16134344783820134, 0.04741161601732748, 0.12546099142245803], [1.1352018097973355, 1.114775293524681, 0.12065981336469238, 0, 0.21634497585242415, 0.04282045173446539, 0.1427160486069967, 0.04325988791645691], [1.3381270093487656, 1.3309805671177026, 0.3322144496506975, 0.21634497585242415, 0, 0.17353165797022577, 0.35901955772161165, 0.20831079227060156], [1.1747264799984956, 1.1575319771025767, 0.16134344783820134, 0.04282045173446539, 0.17353165797022577, 0, 0.1854994956277827, 0.05100357409803209], [1.002595523430498, 0.9720647680600809, 0.04741161601732748, 0.1427160486069967, 0.35901955772161165, 0.1854994956277827, 0, 0.15923233768527145], [1.1317185585184908, 1.1261281469489326, 0.12546099142245803, 0.04325988791645691, 0.20831079227060156, 0.05100357409803209, 0.15923233768527145, 0]], 'LAMBAYEQUE': [[0]], 'ANCASH': [[0, 0.4224691148505063], [0.4224691148505063, 0]], 'AYACUCHO': [[0, 1.7961087116018588, 1.8805498727337557, 1.9968012110539006], [1.7961087116018588, 0, 0.2881597104202716, 0.5626643115432628], [1.8805498727337557, 0.2881597104202716, 0, 0.2745046235954609], [1.9968012110539006, 0.5626643115432628, 0.2745046235954609, 0]], 'AMAZONAS': [[0, 1.4354050291018179, 0.12243543689833579, 0.06711807310890354], [1.4354050291018179, 0, 1.338546770581887, 1.3718028068708759], [0.12243543689833579, 1.338546770581887, 0, 0.06216182012134281], [0.06711807310890354, 1.3718028068708759, 0.06216182012134281, 0]], 'CAJAMARCA': [[0, 0.3852605970866059, 1.1944047679709973, 0.2797128441222655, 0.05053592711016981, 0.27982440407991477, 0.10764715903972574, 0.0880284348664832, 0.17881692110707573, 0.15882975967810528, 0.08061232405368286], [0.3852605970866059, 0, 1.1081366769969767, 0.11354968794665418, 0.4246131801059174, 0.11387389185755724, 0.2857208639237964, 0.47235346830347436, 0.55154786706533, 0.22745303352693386, 0.4657382471392157], [1.1944047679709973, 1.1081366769969767, 0, 1.0844994571542133, 1.1789173714695829, 1.0835367863922913, 1.1263290206497434, 1.242566346115997, 1.1956978844908899, 1.1575231688216785, 1.2316265872273018], [0.2797128441222655, 0.11354968794665418, 1.0844994571542133, 0, 0.31549415163297523, 0.0009776515160829044, 0.1757181470222947, 0.3677024584803846, 0.44020574529026407, 0.12904854824962544, 0.3601967618888288], [0.05053592711016981, 0.4246131801059174, 1.1789173714695829, 0.31549415163297523, 0, 0.31548825413273157, 0.13978154664542794, 0.06807600726396038, 0.13069896092177347, 0.20184240814825818, 0.05719272687222239], [0.27982440407991477, 0.11387389185755724, 1.0835367863922913, 0.0009776515160829044, 0.31548825413273157, 0, 0.17570828617217815, 0.36782152708485655, 0.44009700200024093, 0.12941255036560506, 0.36029401845531517], [0.10764715903972574, 0.2857208639237964, 1.1263290206497434, 0.1757181470222947, 0.13978154664542794, 0.17570828617217815, 0, 0.19496216956539725, 0.26593582956557704, 0.07482342900736694, 0.1865842276542119], [0.0880284348664832, 0.47235346830347436, 1.242566346115997, 0.3677024584803846, 0.06807600726396038, 0.36782152708485655, 0.19496216956539725, 0, 0.1184473023680479, 0.24510811975283311, 0.01110238196857457], [0.17881692110707573, 0.55154786706533, 1.1956978844908899, 0.44020574529026407, 0.13069896092177347, 0.44009700200024093, 0.26593582956557704, 0.1184473023680479, 0, 0.33199045129111165, 0.115866803984265], [0.15882975967810528, 0.22745303352693386, 1.1575231688216785, 0.12904854824962544, 0.20184240814825818, 0.12941255036560506, 0.07482342900736694, 0.24510811975283311, 0.33199045129111165, 0, 0.23883548053021084], [0.08061232405368286, 0.4657382471392157, 1.2316265872273018, 0.3601967618888288, 0.05719272687222239, 0.36029401845531517, 0.1865842276542119, 0.01110238196857457, 0.115866803984265, 0.23883548053021084, 0]], 'APURIMAC': [[0, 0.11700640587862474, 0.14516429143069703, 0.2010798433997576], [0.11700640587862474, 0, 0.02815803683208671, 0.3180859932283262], [0.14516429143069703, 0.02815803683208671, 0, 0.3462436647519871], [0.2010798433997576, 0.3180859932283262, 0.3462436647519871, 0]], 'PUNO': [[0, 0.8293255819146713, 0.6630355265582766], [0.8293255819146713, 0, 0.1664423402886505], [0.6630355265582766, 0.1664423402886505, 0]]}\n"
     ]
    }
   ],
   "source": [
    "print(distancesDictionary)"
   ]
  },
  {
   "cell_type": "code",
   "execution_count": 9,
   "metadata": {},
   "outputs": [
    {
     "name": "stdout",
     "output_type": "stream",
     "text": [
      "{'JUNIN': [{'name': 'Campo Verde', 'x': -73.682631254, 'y': -11.23852662}, {'name': 'Manantial', 'x': -73.73216629, 'y': -11.052660631}], 'ICA': [{'name': 'Sumac Wassi', 'x': -75.690028667, 'y': -14.032004699}, {'name': 'Ana Jara Velasquez', 'x': -75.768467188, 'y': -13.969069284}], 'CUSCO': [{'name': 'Selva Verde', 'x': -71.416283727, 'y': -12.930408252}, {'name': 'Chancarani', 'x': -71.28177777, 'y': -14.44475305}, {'name': 'Sayhuayoc', 'x': -72.07470702, 'y': -14.44433978}], 'TUMBES': [{'name': 'Angel de la Luz', 'x': -80.251414776, 'y': -3.694722345}], 'LIMA': [{'name': 'Casa Huerta', 'x': -76.6739434, 'y': -11.919911691}], 'SAN MARTIN': [{'name': 'Bella Vista', 'x': -77.322463989, 'y': -6.472756346}, {'name': 'Sector La Union', 'x': -76.819764376, 'y': -6.418134607}], 'PIURA': [{'name': 'Alto Milagro', 'x': -79.672964215, 'y': -5.016080824}, {'name': 'Huayanay', 'x': -79.61153577, 'y': -5.39955389}, {'name': 'Nuevo Zona More', 'x': -80.61220295, 'y': -5.39985122}, {'name': 'Hacienda Santa Filomena', 'x': -80.72553016, 'y': -5.44127264}, {'name': 'San Pablo', 'x': -80.94187477, 'y': -5.44087477}, {'name': 'Fundo Rio Frio', 'x': -80.76834353, 'y': -5.4404939}, {'name': 'Loma Blanca', 'x': -80.58287502, 'y': -5.43710352}, {'name': 'San Jose', 'x': -80.7376639, 'y': -5.39974927}], 'LAMBAYEQUE': [{'name': 'San Lorenzo', 'x': -79.760484695, 'y': -5.944753271}], 'ANCASH': [{'name': 'Andahuaylas', 'x': -77.550237179, 'y': -9.408038645}, {'name': 'Shirapampa', 'x': -77.401481667, 'y': -9.012625}], 'AYACUCHO': [{'name': 'Asociación de Vivienda Paraiso II', 'x': -73.743426204, 'y': -12.693435772}, {'name': 'Surapunco', 'x': -74.14069602, 'y': -14.44505879}, {'name': 'Ccilccata', 'x': -74.4288554, 'y': -14.44462241}, {'name': 'Trajin', 'x': -74.7033599, 'y': -14.44436192}], 'AMAZONAS': [{'name': 'Nuevo Gramalotal', 'x': -78.51179147, 'y': -5.39164889}, {'name': 'Villa Rica', 'x': -77.808623333, 'y': -6.643025}, {'name': 'Nuevo San Jose', 'x': -78.4003594, 'y': -5.44237689}, {'name': 'Mirador', 'x': -78.46228563, 'y': -5.43697005}], 'CAJAMARCA': [{'name': 'El Horcon La Piria', 'x': -78.92403222, 'y': -5.40194122}, {'name': 'Sauce', 'x': -78.53878102, 'y': -5.39925039}, {'name': 'Santa Rosa', 'x': -78.465892438, 'y': -6.504987316}, {'name': 'Tomaque', 'x': -78.64635281, 'y': -5.43560753}, {'name': 'El Paraiso', 'x': -78.96184693, 'y': -5.43546625}, {'name': 'Pindal', 'x': -78.64636066, 'y': -5.43658515}, {'name': 'Cruce La Coypa', 'x': -78.8220689, 'y': -5.43645777}, {'name': 'Las Cuevas', 'x': -79.01100932, 'y': -5.38837695}, {'name': 'La Union', 'x': -79.08415561, 'y': -5.48154016}, {'name': 'Higuerones', 'x': -78.76590496, 'y': -5.38701935}, {'name': 'La Vega El Puente', 'x': -79.00451552, 'y': -5.39738214}], 'APURIMAC': [{'name': 'Huruhuacca', 'x': -72.89834564, 'y': -14.44481253}, {'name': 'Ampotaje', 'x': -72.78133927, 'y': -14.4447209}, {'name': 'Huayjohuasi', 'x': -72.75318151, 'y': -14.44459604}, {'name': 'Palca', 'x': -73.09942514, 'y': -14.44444091}], 'PUNO': [{'name': 'Calachaca', 'x': -69.389521667, 'y': -14.456891667}, {'name': 'Japu Japu', 'x': -70.21875602, 'y': -14.44459091}, {'name': 'Anansaya', 'x': -70.052359309, 'y': -14.440693833}]}\n"
     ]
    }
   ],
   "source": [
    "print(placesDictionary)"
   ]
  },
  {
   "cell_type": "code",
   "execution_count": 2,
   "metadata": {},
   "outputs": [
    {
     "name": "stdout",
     "output_type": "stream",
     "text": [
      "[None, 'Asociaci??n de Vivienda Paraiso II', 'Campo Verde', 'Trajin', 'Sumac Wassi', 'Chancarani', 'Alto Milagro', 'Terrazas de Villa', 'Villa Rica', 'Huayanay', 'Villa Flor', 'Caururo', 'Bella Vista', 'Huamampallpa', 'Primavera', 'Shaquitambo', 'Loma Blanca', 'La Manga', 'Nuevo Gramalotal', 'Villa Rica', 'Achimbray', 'Cedro', 'Palca', 'Ampotaje', 'Sayhuayoc', 'Huayjohuasi', 'Anansaya', 'Surapunco', 'Huamampallpa', 'Chancarani', 'Huruhuacca', 'Ccilccata', 'Huamampallpa', 'Japu Japu', 'Santa Rosa', 'Puentecillos', 'Jose Carlos Mariategui', 'Fundo Rio Frio', 'Jose Carlos Mariategui', 'La Laguna Alta', 'Nuevo Jerusalen (La Perla)', 'San Lorenzo', 'Tomaque', 'Hawai', 'Los Huayos', 'Pacaypite', 'Hacienda San Juan de Chato', 'Tomaque', 'La Laguna Alta', 'Union Las Vueltas', 'Nuevo Zona More', 'Nuevo San Jose', 'La Vega El Puente', 'Sector La Union', 'San Francisco', 'Sauce', 'La Libertad', 'Mirador', 'Sauce', 'Higuerones', 'Athahualpa', 'Hawai', 'El Horcon La Piria', 'Los Huayos', 'Huayanay', 'Tauripuquio', 'Shupla', 'Carpa', 'Pampas', 'San Antonio de Colpa', 'Cachina', 'Ushumayo', 'Illaruri', 'Paccha', 'Molino', 'Huayopampa', 'Yanapamoa', 'Huagyana', 'Fundo Maria', 'Ranya / Rauya', 'El Regadero', 'Canchapitec', 'Los Andes', 'Huinritiro', 'Huarianga', 'Unamaran', 'Florencia', 'Parac', 'Pacaypuco', 'Mesarumi', 'San Cristobal', 'Papahuain / Papahuayi', 'Mashuan / San Cristobal de Mashuan', 'Tancuy', 'Gochaucro', 'Cuto', 'Taurijirca', 'Machac Punco', 'Inapucro / Loyaccanchi', 'Cachi Pucro', 'Mesapataj', 'Poleo Roble Pampa', 'Cochapampa', 'San Jose', 'Hacienda San Juan de Chato', 'La Union', 'Plazapampa', 'Angel Monte', 'San Luis Enoc Flor de un Dia', 'Cashacorona', 'Rumichaca', 'Keroucru', 'Jigaragra', 'Huayup', 'Agosejircan', 'Manantial', 'San Andres', 'Huiscashtuna', 'Marpopampa', 'Tambo Sarria', 'Condorhuaca', 'Shuclash', 'Chiclapata', 'Pucayacu', 'Conac', 'Mamayhuachin', 'Rosa Pampa', 'Fundo Maria', 'Ogobamba', 'Maryaragraj', 'Millpu', 'Pampamarca', 'Chinchinca / Chinchinga', 'Yantarajra / Yantaragra', 'Yarina', 'Tingo', 'Huancan', 'Collota', 'San Damian', 'Ollucoloma', 'Shullipampa', 'Chasqui', 'Huanshu', 'Callhuayna', 'Cashac', 'Tucsopom', 'Tuto', 'Rumichaca', 'Hacienda Yurac Rumi', 'Garbanzo Cancha', 'Izco Pata', 'Yanapamoa', 'Ushno Huain', 'Quillapampa', 'Chinchoragra', 'Tipsa', 'Choras', 'Minauchco', 'Mesa Pampa', 'Shiricuchu', 'Mercedes', 'Shupla', 'Pachamu??a', 'Mollepata', 'Justuhuanca', 'Simon Pampa', 'Paccha', 'Ayatamana', 'Guytoc', 'Huallanca', 'San Francisco Palomar del Sira', 'Cangra', 'Rosa Pampa', 'Juytucancha', 'Cashacorona', 'San Jorge de Pachitea', 'Capiash', 'Rosas Pampa', 'Cuyogpampa', 'Yupapa', 'Carhuamarca', 'Patay Rondos / Sicsipata', 'Inchic', 'Pueblo Libre', 'Chalquian', 'Acacancha', 'Saupa', 'Potga', 'Ayapiteg', 'Colpa Baja', 'Maryaragraj', 'Huaman', 'Huanin', 'Canachuco', 'Ushcumachay', 'Mito', 'El Molino', 'Chachaspata', 'Callancas', 'Queracocha', 'Mirachi', 'Puente Grande', 'Pucapampa', 'Chogorangran', 'Puyac', 'Mina Santon', 'Corahain', 'San Pedro de Longui', 'Jesus Nazareno de Independencia', 'Juytucancha', 'Cuyog', 'Chacabamba', 'Gallo Rumi', 'Llicopampa', 'Las Golondrinas', 'Pariatuna', 'Puerto Libre', 'Parashpata', 'Parashpata', 'Pucapiteg', 'Colishcancha', 'Jircanhuay', 'Yanaututo', 'Huaman', 'Putaca', 'Chuquimarca', 'Pampamachay', 'Santo Campo', 'Palmira', 'San Martin', 'Tuyo Paccha', 'Zabalo', 'Shiqui Chico', '?�ahuinsequia', 'Mesa Pata', 'Huinac', 'Canachuco', 'Hacienda Maria Esther', 'Mina Santa Elenita', 'Huachog', 'Coto', 'Casamachay', 'Sagracorral', 'Putaca A', '?�ahuinsequia', 'Pampacancha', 'Cajon Ragra', 'Puerto Victoria', 'Humpare / Ultococha', 'Churana / San Lorenzo', 'Tuntun', 'Shamocoto', 'Cuncush Pampa', 'San Sebastian De Goramarca', 'Jatun Corral', 'Laja Laja', 'Huancall', 'Ichic Yanama', 'Libertad', 'Collca Pata', 'Ichic Ahuac', 'Saupa', 'Yanayaquillo', 'Palgarragra', 'Tingo', 'Huacaran', 'Rumichaca', 'Taurijirca', 'Huepash', 'Linda', 'Lucma', 'Jircahuain', 'San Cristobal de Naunan', 'Matacuncush', 'Fundo Amaru', 'Jatunhogo', 'San Juan de Miraflores', 'Aschal', 'Sogue Pata', 'Ayatamana', 'Gahuish', 'Juytucancha', 'Urpay', 'Huacahuain Grande', 'Flor de un Dia', 'Cashac', 'Timoc / Tincoc', 'Huacahuin Chico', 'Ushcumachay', 'Taullivado', 'Senquer', 'Riwish', 'Shullana', 'Pucara', 'Casacancha', 'Shuyururi', 'Jatun Ogo', 'Mata Rumi', 'Caspras / Cachcas', 'Illkeda', 'Ticte', 'Ogoragran', 'San Cristobal', 'Garbanzo Cancha', 'Torno Vado', 'Puerto Violeta', 'Millo Millo', 'Rucrup', 'Runtuvado', 'Comuhuanca', 'Maraytaca', 'Huanchu', 'Quera / San Sebastian de Quera', 'Pumaucro', 'Tinco', 'Huacoto', 'Cachigaga', 'Sinai', 'Umajirurin', 'Callancas', 'Panteon Alto', 'Ranya / Rauya', 'Jando Vado', '?�aupa Marca', 'San Juan de Lucma Ragra', 'Bacapishtea', 'Purupampa', 'Atoghuin', 'Chipajilcan', 'Pachamu??a', 'Gaga Esquina', 'Parasha Pampa', 'Panao', 'Jatunrumi', 'Nazareth de Shahuaya', 'Bellavista', 'Pucapampa', 'Hierbabuena', 'Mojon', 'La Esperanza', 'Flor de Un Dia', 'Fundo Mesapata', 'Molino', 'Agosejircan', 'Jatun Ragra', 'Yanca Huayo', 'Mesapata', 'Puerta Golpe', 'Pulpulyag', 'Ututorajra', 'Huanpar', 'Rumirumi', 'Urchco Punta', 'Kanyasyami', 'Rare', 'Llaquir', 'Marcocancha', 'Cakap / Cagap', 'Atacushma', 'Arteza', 'Constitucion / Ciudad Constitucion', 'Luciapata', 'Tantash', 'Gorimina', 'Pampa Cocha', 'Piliaco', 'Mito', 'Yuracrumi', 'Shumacpampa', 'Puca Puca', 'Hacienda Yurac Rumi', 'Chinchamayo', 'Pucara', 'Pucaragra', 'Llicllatambo', 'San Lucas de Mesapampa', 'Urio', 'Anascancha', 'Chiparajra', 'Rashu', 'Ayatamana', 'Huaylash', 'San Cristobal de Jacas Chico', 'Shogosh', 'Champash', 'San Cristobal', 'Ogocatac', 'Atoghuin', 'Huachag Grande', 'Acojirca', 'Ticapampa', 'Huanuco Pampa', 'Shiusha', 'Mitotambo', 'Antacallanga', 'Condorhuayin', 'Choquevado', 'Huampumayo', 'Altos Machay', 'Quitchki', 'Minas Pampa', 'Fundo El Arenal', 'Jircancancha', 'Ceresayoc', 'Mariapata', 'Cashapampa Chico', 'Guytoc', 'Yanayacu', 'Tambormachay', 'Santa Rosa', 'Hualuragra', 'Chogopampa', 'Shogosh', 'Hachasjoto', 'San Ignacio', 'Huishgas Corral', 'Senquer', 'Pallayoc', 'Pucacocha', 'Quelquey', 'Huacoto', 'Rambrash Ragran', 'Millpo', 'Villa Ramon Castilla', 'Pampas', 'Huacahuin Chico', 'Cashapampa Grande', 'Fundo Gomes', 'Limapampa', 'Alto Huipus', 'Avion Pampa', 'Creston', 'Parashapampa', 'Huancapallac', 'Puca Puca / Garu', 'Creston', 'Huariaco', 'Congoncillo', 'Puca Puca', 'Puerto Burro', 'Cuncayoc', 'Puca Puca', 'Ollucoloma', 'Colpa', 'Raran Pampa', 'Plazapampa', 'Cachucachujircan', 'Piccha Paccha', 'Cashapampa', 'Huanchag', 'Huancacha', 'Ogocatac', 'Rurin Quishuar', 'Quishuar / Quisuar Pampa', 'Chihuar', 'Quinta', 'Puchi Punta', 'Pumpa Jacha', 'Mina Mayaya', 'Huanipampa', 'Santa Rosa', 'Pampa Jirca', 'Huacpara', 'Tambillo', 'Huarihuain', 'Jacagaranan', 'Huacaran', 'Acojirca', 'Andahuaylas', 'Cachucachujircan', 'La Esperanza', 'Siqui Grande', 'Sogocucho', 'Cashapampa', 'La Esperanza', 'Cocha Pitec', 'San Jose de Yarowilca', 'Limapampa', 'Rosas Pampa', 'San Jose de Yarowilca', 'Oyos', 'Shiricuchu', 'Mariapata', 'Matucana', 'Colpa Baja', 'Pocra', 'Llama Rumi', 'Tinco', 'Huanchag Grande', 'Mayorgo', 'Saporumi', 'Agua Blanca', 'San Pedro Macha', 'Jayunogo', 'Fundo San Juan', 'Cormay', 'Callo Rumi', 'Shoclla', 'Raco', 'Fundo San Juan', 'Rumi Chacca', 'Puca Puca', 'Illa Tingo', 'Huanchay', 'Yurac Puquio', 'Yacujitana', 'Asiac', 'Llicllatambo', 'Urio', 'Keroucru', 'Huanuco Pampa', 'Hueguetog', 'Ni??acocha', 'Cullcuy', 'Sacrapampa', 'Higos', 'Los Andes', 'Carancho', 'Antacallanga', 'Condorhuaca', 'Huaynacancha', 'Chinchamayo', 'Gredapata', 'Huaynacancha', 'Jayunogo', 'Shalla', 'Casha', 'Tanash Huay', 'Recodo', 'Tumacpampa', 'Sagracorral', 'Ututorajra', 'Yanashallash', 'Tranca', 'Chongarun', 'Huansala', 'Agua Blanca', 'Huacahuasi', 'Tingo Loma', 'Chilcayoc', 'Mishapampa', 'Lliuya', 'Utchuhuain', 'Vista Bella', 'Mesapata', 'Mesapata', 'Cashacuta', 'San Pedro', 'Marias', 'Cushcup', 'Yaruhuayin', 'Pampa Chacra Alta', 'Pachacoto', 'Mashra', 'Flor de Rosapampa', 'Chaupi Cruz', 'Ovas', 'Huampumayo', 'Colpa', 'Huanshu', 'Chiclapata', 'Fundo El Arenal', 'Luciapata', 'Huancan', 'Agopampa', 'Huayopampa', 'Huanchu', 'Quitchki', 'Huacho', 'Pucapiteg', 'Mesapata', 'Chaupijirca', 'Guergoto / Guerguito', 'Chamana Ucro', 'Pucayacu', 'Punchao Chico', 'Chinchan', 'Huarianga', 'San Pablo de Lanjas', 'San Agustin de Chuntarragra', 'Gogan Ucho', 'Chogorangran', 'Jircacocha', '8 Cruz Pata', 'Cashajanan', 'Silla Marca Marca', 'Urraga', 'Yunca Shunto', 'Hualli', 'Pulpuliag', 'Taruca', 'Miraflores', 'Marayoc', 'El Alto', 'Purush', 'Tinco', 'Arteza', 'Tambillo', 'Pillcocancha', 'Luychupananan', 'Yanamayo', 'Concepcion', 'Pichca Ragra', 'Chuspic', 'Casacancha', 'Rosapampa', 'Poquian', 'Percay', 'Granada', 'Ni??acocha', 'Santa Rosa', 'Quisha', 'Tambillo', 'Callo Rumi', 'Bolognesi', 'Irman', 'Tauripampa', 'San Juan', 'Alpahuanca / Santa Fe de Alpahuanca', 'Puerto Mayro', 'Mitocucho', 'Gamtu', 'Cucho', 'Huerenga', 'Queracocha', 'Unamaran', 'Cajon Ragra', 'Shullipampa', 'Tingo', 'Toldorumi', 'Piliaco', 'Santo Domingo', 'Carpa', 'Cashamachay', 'Raria', 'Lacsha', 'Shanshuy', 'Capillanioc', 'Putaca A', 'Muyucro', 'Cuchus', 'Monte Azul', 'Huallanca', 'Guergoto / Guerguito', 'Santa Maria del Valle', 'Tambogan', 'Yanamayo', 'Alisoyoc', 'Calicanto', 'San Cristobal de Jacas Chico', 'Yanatininan', 'Huishgas Corral', 'Cangrash Huay', 'Millpo', 'Chinchan', 'Jallan / Galan', 'Pariagaga', 'Accopite', 'Ucruhuay', 'Carrizal', 'Rumitambo', 'Tierra Blanca', 'San Juan', 'Piquitambo', 'Vinchos', 'Huanchag Grande', 'Pariagaga', 'Alto Amaquirca', 'Rucuanuca', 'Putacahuain', 'Dos Aguas', 'Huishllac', 'Rogotoyog', 'Los Angeles del Rio Codo', 'Putacahuain', 'Cuzmo', 'Jatun Ogo', 'Piteg', 'Magapata', 'Mina Purush', 'Shanguil Jircan', 'Tuyo Paccha', 'Huaycho / Huaychao', 'Marcopata', 'Mascaron', 'Huallan', 'San Antonio de Chonta', 'Nuevo Progreso', 'Huanchag', 'Casa Blanca', 'Tambormachay', 'Verbenapampa', 'Pipish', 'Alto Mashoca', 'Huani Huari', 'Huayopata', 'Algayhuachan', 'San Cristobal', 'Mesapata', 'Cashapata', 'Taulle', 'Luychupananan', 'Copac', 'Guellaycancha', 'Jatunpucro', 'Cahuac', 'Quinque', 'Huayaopuco', 'Ripan', 'Mina Quenhua Ragra', 'Pachachaca', 'Huancayoc', 'Hueca', 'Quisches / Quinchas', 'Mesapata', 'Santa Rosa de Shayag', 'Shogush / Shogosh', 'Yanatininan', 'San Luis de Cancalla', 'Gonog Puquio', 'Taulligan', 'Quera / San Sebastian de Quera', 'Goyar Punta', 'Pachachaca', 'Mishitana', 'Shiripata', 'Tauripampa', 'Huanquilla', 'Conobamba', 'Shuruyo', 'Porvenir de Marona', 'Cayumba', 'Huangur  Cuta', 'Chinchinca / Chinchinga', 'Cordormachay', 'Huachanga', 'Antarragra', 'Rinconada', 'Chumapampa', 'Angas', 'Cancal', 'Alto Morona', 'Challhuayog', 'Agua Blanca', 'Cruz Punta', 'Los Angeles', 'Layavado', 'Tactacorral', 'Putaca / Putaca Grande', 'Pacaypampa', 'Chayac Chico', 'Yurac Corral', 'Jango Ragra', 'Cahuac', 'Ovas', 'Beatuyoc', 'Buena Vista', 'Turripampa', 'Quillcay', 'Curanjo', 'Huayllapampa', 'Huachanga', 'Huarapasca', 'Taruca', 'Tallaspina / Guellaspina', 'Shalla', 'Rio Blanco', 'Urraga', 'Tallaspina / Guellaspina', 'Tarayoc', 'Salinas', 'Neguip', 'Carian', 'Choquemarcan', 'Buena Vista de Mara??on', 'Andahuaylas', 'Chinchan', 'Hacienda Charan', 'Pochogoy', 'Flor de un Dia', 'Hueca', 'Putaga', 'Jatun Ogo', 'Marapampa', 'Orellana', 'Ericka', 'Catumarca', 'Tiuyac', 'Sillarumy', 'Huasca', 'Mesapata', 'Tarayoc', 'Huaycolan / Huayculado Antiguo', 'Quinta Praga', 'Tingo', 'Racri', 'Guellaycancha', 'Dos Aguas', 'Tucu Huaganan', 'Potaga', 'Ichic Huaranga', 'Lagunas', 'Sapcha', 'Fundo Gomes', 'Huancapatar', 'Llacllaco', 'Shilan', 'Puchipuquio', 'Cabina', 'Tablachaca', 'Huayuculano', 'Huallpayunca', 'Jircanhuay', 'Carhuas Cancha', 'Potaga', 'Casacancha', 'Huishun', 'San Juan de ?�auza', 'Ogopata', 'San Pedro Macha', 'Maquinayoc', 'Upay Ucro(Jupay Ucru)', 'Machahuanca', 'Hurianjaga', 'Rancho Grande', 'Marcaragra', 'Puerto Flores', 'Chumipata', 'Cuncayoc', 'Hacienda Torres', 'Mashra', 'Mesa Pata', 'Jircan Corral', 'Nazareth de Shahuaya', 'Muchipampa', 'Pochogoy', 'Guenuay Punta', 'Hacienda', 'Cochabamba', 'Acorma', 'Pomaran', 'Huargopatac', 'Shatanya', 'Miguel Grau', 'Maronilla', 'Jutcuna', 'Utush', 'Palma Monte', 'Cosmopolita', 'Jegnapatay', 'Huillcap', 'Tingo Pampa', 'Sogosogo', 'Jatun Ogo', '12 de Octubre', 'Hierba Santa', 'Gollotajirkan', 'Chullqui', 'Tingo', 'Ichic Huaranga', 'Quimin', 'Lucma Yoc', 'Salapampa', 'Huarhua Coto', 'Casa Hacienda', 'Libertad De Santa Ana', 'Libertad De Santa Ana', 'Chuchirumi', 'Tinyayoc', 'Racuay', 'Ututo Ragra', 'Yanamayo', 'Lucma Yoc', 'Parian', 'Sirabamba', 'Nuevo Progreso de Taprag', 'Carata', 'Chagllapampa', 'Cangrash', 'Paltaniyoc', 'Cancan', 'Uchpas', 'Shonque', 'Guenuay Punta', 'Gitana', 'Verde Pozo', 'Balcon Celoso', 'Tauri', 'Amapola', 'Pogoc', 'Contadera', 'Tactacancha', 'Santa Rosa de Ticahuayin', 'Oguro Puquio', 'Vinchos', 'Garu', 'Pocoj', 'Tranga', 'Arwecancha', 'Huancapampa', 'Osapata', 'Hua??in', 'Mina Purush', 'Rudapata', 'Cutapuquio', 'Yanapampa', 'Pampachacra', 'Pacrash', 'San Jose', 'Succha', 'Ollanta', 'Tembladera', 'Chinchopampa', 'Huillipata', 'Shaoallo', 'Rio Pozuzo', 'Pucahuayin', 'Huicshu', 'Atoc Sheco', 'Checchin', 'Loca Pu??unan', 'Jatun Chullpa', 'Ancatanan', 'Parcup Grande', 'Champa', 'Asencion', 'Chinchopampa', 'Pucapacsha', 'Ocun', 'Chuchocos', 'Pichui', 'Casharagran', 'Sagragallan', 'Aurimachay', 'Tingo Loma', 'Ichicpuputin', 'Velarajra', 'Piedra Blanca', 'Ogopampa', 'Posada', 'Maraytacaj', 'Ungara', 'Allma', 'Shanshuy', 'Jircash', 'Piruro Corral', 'Tambo', 'Karman', 'Manzana', 'Tucuhuayin', 'Chiuruco', 'Mishapampa', 'Miramar', 'Ismopata', 'Cabramayo', 'Obaspampa', 'Chaupijirca', 'Racacha', 'Huancall', 'Ranra Huran', 'Soraya', 'Fundo ?�u??un', 'Fundo Yolanda', 'Quelloc Cona', 'Collota', 'Santa Rosa de Umpash', 'Miramar', 'Collota', 'Chaquipuquio', 'Lliuya', 'Mina Florida', 'Cachina', 'Huariaco', 'Sinai', 'Tancar', 'Quecap', 'Jatun Chullpa', 'Aguacalla', 'Avanza', 'Huisllac', 'Avanza', 'Tucuhuain', 'Purcucancha', 'Yurac Rumi', 'Marco', 'Puyaucro', 'Puquio', 'Huancapallac', 'Puquio', 'Tablachaca', 'Chaullojuanca / Culluhuanca', 'Machapampa', 'Mina Madre de Dios', 'Huishllac', 'Ancaratana', 'Mesarumi', 'Santa Rosa de Toma', 'Huangramarca', 'Pucarajo', 'Ahuas Grande', 'Ahuas Chico', 'Biramarca', 'Mesapata', 'Shaycuna', 'Puyhuan', 'Piruro Corral', 'Quishuar / Quisuar Pampa', 'Loglash', 'Cuncush', 'Huallanca', 'Llacshacayan', 'Minajirca', 'Chogosmonte', 'Tarayoc', 'Cuncayoc', 'Cuchicancha', 'Putaga', 'Casha Punta', 'Kero Coral', 'Incapuquio', 'Posada', 'San Juan de ?�auza', 'Pariapampa', 'Ushac Punta', 'Yuracpampa', 'Tauri', 'Rucuposo', 'Jiramachay', 'Osgoro', 'Ogo', 'Huaytapata', 'Chilcho', 'Pampa Florida', 'Santo Domingo', 'Casha Punta', 'Yanapampa', 'Ancatanan', 'Ocun', 'Tican', 'Chihuanhuay', 'Cebada Loma', 'Llulluas', 'Llanqui', 'Chagllapampa', 'Ahuas Chico', 'Mantaucro', 'Aguacalla', 'Quecap', 'Jircanhuay', 'Alalac', 'Potaga', 'Quinta Praga', 'Pasto Huacta', 'Aro Cancha', 'Sheclla', 'Huagracancha', 'Retama', 'Mitush', 'Mismi', 'Porvenir de Marona', 'Rogotoyog', 'Pacta', 'Ranchin', 'Racacha', 'El Carmen', 'Santa Cruz', 'Nueva Palestina', 'Minas', 'Huishca', 'Cruz Pata', 'Almakaka', 'Ulluy', 'Chacpa', 'Palmapampa', 'Pisho Pampa', 'Agua Nueva', 'Pachona', '?�ahuinccacca', 'Contadera', 'Cochapata', 'Ushac Punta', 'Puto Shongo', 'Goripampa', 'Monterrico', 'Shillahuarin', 'Tungra', 'Soraya', 'Minera Catac', 'Garbanzo', 'Tumanhuari', 'Pi??ayoc', 'Ranchin', 'Curayacu', 'Upay Ucro(Jupay Ucru)', 'Uncho', 'Machahuanca', 'Samaren', 'Intipumco', 'San Juan Bautista de Cascay', 'Mercenario', 'Cuyao', 'Santo Domingo', 'Tres de Mayo De Yanacocha', 'Pachanacan', 'Jarapacha', 'Huasca', 'Palma Monte', 'Rancho Chico', 'Huancaturpa', 'Huayuculano', 'Huancapunta', 'Hichicera', 'Colacocha', 'Parada', 'Shiligaga', 'Chumipata', 'Florida', 'Mina Santa Anita', 'La Inmaculada', 'San Cristobal de Querapampa', 'Tapiocag', 'San Luis de Cancalla', 'Pavina', 'Arteza', 'Pacapucro', 'Cashamachay', 'Ututo', 'Nause', 'Puto Shongo', 'Huayash', 'Mina Nivel Tres', 'Pichui', 'Checchin', 'Cruzpata', 'Yuracyacu', 'Chacamayo', 'Raquiscocha', 'Cosmopolita', 'La Linda', 'Puerto Violeta', 'Puente San Juan', 'Parco', 'Santa Rosa de Llegllish', 'Rancho Chico', 'Siete Hermanos', 'Palma Monte', 'Yanamachay', 'Yanahuanca', 'Huagash', 'Parada', 'Tingo Pampa', 'Villa de Manta', 'Kilicsha', 'Hichicera', 'Matahuachag', 'Llacshacayan', 'Sogosogo', 'Ramrash', 'Shaycuna', 'Jatupampa', 'Chuchupuquio', 'Pallca', 'Succha', 'Yanamayo', 'Racri', 'Llanquish', 'Morada Jirca', 'Quimin', 'Parashapampa', 'Mina Bien Venida', 'Puchi Punta', 'Natin Mircapa/Miscupata', 'Paltay Niyoj', 'Pukin', 'Mina Rure', 'Ilauro Corral', 'Muchcapo', 'Libron', 'Anjamache', 'Purpuro', 'Chihuar', 'Libertad', 'Santa Rosa', 'Palanca', 'Chicururi', 'Tranca', 'Colcabamba', 'Ancush', 'Mushcaucro', 'Pincuran', 'Maynas', 'Guenay', 'Ushpajanca', 'Chincho', 'Tato', 'Shracancha', 'Piruro', 'Pasquita', 'Calhuana', 'Manca Peque', 'Quinsa Punta', 'Pumpa Jacha', 'Gaya', 'Gaya', 'Rurayoc', 'Punran', 'Chacapampa', 'Machapampa', 'Cumaria', 'Anchac Grande', 'Casacancha', 'Villa de Manta', 'Pitec / Piteg', 'Huagracancha', 'Santa Rosa de Umpash', 'Jaguispata / Jaquishpata', 'Coris', 'Yeso Tacana', 'Huillcap', 'Huaycoto', 'Huicshu', 'Tambo Sarria', 'Pacos', 'Jarapayoc', 'Hacienda Mashra', 'Organo Rumi', 'Pucajirca', 'Jircacancha', 'Huariap', 'Mina San Pedro', 'Taullis', 'Huayllaco', 'Cochabamba', 'Villa Castilla', 'Taucun', 'Asiac', 'Yana Mayo', 'Pampa Esperanza', 'Andahuaylas', 'Rio Pozuzo', 'Cancana', 'Mina Mariscal', 'Llicua / Llicua Jircan', 'San Jose', 'Shapallu', 'Torre Torre', 'Contadera', 'Sacapampa', 'Union Huari', 'Yanamayo', 'Sheclla', 'Cunhuasa', 'Mitucancha', 'Chogobamba', 'Ayapampa', 'La Trinidad', 'Huishcapata', 'Cashapucro', 'Osgoro', 'Cachupampa', 'San Juan de Igna', 'Pucarrambrash', 'Agua Dulce de Cochayan', 'Pillo Cocha', 'Yanac', 'Chaupijirca', 'Pintayrumi', 'Las Palmas', 'Tinco', 'Cruzmiyoj', 'Oguro Puquio', 'La Madera', 'Pampacancha', 'Gollotajirkan', 'Meza Pata Grande', 'Puponcocha', 'Mulluhuanca', 'Cabramayo', 'Yeso', 'Sheclla', 'Constitucion / Ciudad Constitucion', 'Shapallu', 'Jircan Corral', 'Utchuhuain', 'Yuracniyoc', 'Tingo Ragra', 'Cuncush', 'Llacon', 'Huala Huala', 'Jeccho', 'Shunqui', 'Shancay', 'Mantacayan', 'Luychu', 'Quechuapata', 'San Asuncion de Racche Cancha', 'San Juan de Miraflores', 'Chinchanco', 'Huancapampa', 'Ocshapiteg', 'Rio Seco', 'Andahuaylas', 'Chalcan', 'Cashacancha', 'Tullca', 'Choquicocha', 'Cachu Tuna', 'Parashapatac', 'Palma Pampas', 'Huarurruri', 'Parasha Jircan', 'Rivera del Rio / Boca Huacapishtea', 'Chogopampa', 'Llamayupana', 'Llacllaco', 'Jeccho', 'Fundo ?�u??un', 'Ullucuran', 'Pata Rambrash', 'Tambillos', 'Collparuri', 'Lincuna', 'Chaqueypampa', 'Aconan', 'Potaca', 'Balazo', 'Mal Paso', 'Nacya', 'Rampac', 'Pitec / Piteg', 'Jushcas', 'Amacoto', 'Tactacorral', 'Manpac', 'Canchas', 'Parashapampa', 'Purcucancha', 'Canamini', 'Collota', 'Pucahuayin', 'Jircash', 'Moncerrate', 'Jogo', 'Jarman', 'Laja Laja', 'Verdecocha', 'Sinculo Pampa', 'Ucrubamba', 'Hacienda Callan', 'Kotu', 'Palacio', 'Yacoshpampa', 'Cruz Pata', 'Chaliaco', 'Maray / San Antonio de Maray', 'Chaupimarca', 'Mariam', 'Rio Quilado', 'Jojan Pampa', 'Rare', 'Micho', 'San Julio', 'El Castillo', 'Tuyari / Tumari', 'Papayayog', 'Quishuar', 'Tinco', 'San Isidro', 'Shirihuasi', 'San Juan Glorioso', 'Quian', 'Jatun Corral', 'Pucajirca', 'Huallijirca', 'Escorzonera', 'Ugro Puquio', 'Hacienda Quiplla', 'Ba??os', 'Shiquin', 'Huitca', 'Paltac', 'Lirio Pampa', 'Viento Pulca', 'Chapan', 'Rinconada', 'Timushana', 'Pilcocancha', 'Querapampa', 'Ututo', 'Puchua', 'Yanarumi', 'Chushle Jircan', 'Chogosmonte', 'Carampuquio', 'Rambrash Ragra', 'Palma Pampa', 'Huaylapata', 'Cochaparco', 'Mashuapata', 'Cochupampa / Cocha Pampa', 'Llactun', 'Pucarrambrash', 'Parcap', 'Santa Rosa de Pata', 'Mina Cajavilca', 'Pukakaka', 'Higosruri', 'Minas Hercules', 'Ichic Huashcu', 'Nanyac', 'Llincay', 'Cutacancha', 'Turca', 'Cluk', 'Tambo', 'Yuracancha', 'Antapampa', 'Mashuapata', 'Escorsonera', 'Mesita Pampa', 'Jachacacllan', 'Raypa Nuevo/Raypa', 'Calash', 'Cruz Pampa', 'Pomaran', 'Baldomero', 'Sipza', 'Colcap', 'Lincuna', 'Chiches', 'Mesita Pampa', 'Hacienda Cashacancha', 'Janca', 'Paltaniyoc', 'Huachua / Chacuantano', 'Yanapaccha', 'Pirhuapata', 'Ichi Ragra', 'Huarapa', 'Huarurruri', 'Tucuhuain', 'Garu', 'Tarugo', 'Timushana', 'Shancay', 'Hueyllan', 'Carata', 'Salapampa', 'Cruzmiyoj', 'Pucajirca', 'Huacharumi', 'Huamparin', 'Huachua / Chacuantano', 'Parashapatac', 'Vinchos', 'La Inmaculada', 'Llamacancha', 'Pila Punco', 'Punri', 'Santa Cruz', 'Puerto Flores', 'Huillca Puquio', 'Tranca', 'Seccha', 'Pariacancha', 'Rollorumi', 'Huillca Puquio', 'Rauro', 'Pucutin', 'Juchupata', 'Main', 'Huayhuash', 'Gochapiteg', 'San Pedro de Shairicancha', 'Rumar', 'Almizcle', 'Rurin Quishuar', 'Vista Alegre', 'Llayapampa (Llaya)', 'Pariacancha', 'Borunda / San Pablo de Borunda', 'Chacpa', 'Viuda Jircan', 'Yanacocha', 'Challhua', 'Agorragra', 'San Martin', 'Quillimpa', 'Jamca', 'Marey Pampa', 'Marey Pampa', 'Nuevo Progreso', 'Mahuacancha', 'Cluk', 'Porogsajircan', 'Puerta del Diablo', 'Millurumi / Nillorumi', 'Bombon Machay', 'Jirca Chiuche / Inca Chinche', 'Taullicancha', 'Matush', 'Shuyumachey', 'Huagra Huilca', 'Pucaera', 'Chauchas', 'Accha', 'Huaca Grande', 'Catumarca', 'Tayacancha', 'Quillopampa', 'Chabela / Chabela Ucro', 'Nuevo Trujillo', 'Lucma', 'Pamparomas', 'Uchcopampa', 'Mina', 'Chicha Verde', 'Chocto', 'Yuracyacu', 'Pachacannani', 'Pacsag', 'Loglashpampa', 'Buenos Aires', 'Nueva Esmeralda', 'Mallacayan', 'Mahuacancha', 'Ragrahuayi', 'Chapan', 'Cashacancha', 'a??asucro', 'Piruro', 'Santa Isabel', 'Jitca', 'Jitca', 'Tagta Patac', 'Chaliaco', 'Ragrahuayi', 'Shiripayac', 'Huayllacancha', 'Llamaragra', 'Pucarumi', 'Pariaracra', 'San Francisco De Rurimarac', 'Hualmish', 'Quihuan', 'Jachacacllan', 'Ninacocha', 'Huari Pata', 'Pucarumi', 'Cashapucro', 'Rayanucro', 'Huaguin', 'Kotu', 'Tranca (Gasgabamba)', 'Los Angeles del Rio Codo', 'Huayllacancha', 'Quisuar', 'Rupahuasi', 'Cedrio', 'Iscasinan', 'Borunda / San Pablo de Borunda', 'Tiprac / Ticrap', 'Huayllacancha', 'Puerto Piquinique', 'Puente Retama', 'Llamapashillon', 'Buenavista', 'Llanquiquichan', 'Patacancha', 'El Dorado', 'Mezapata Chica', 'Tarugo', 'Nuevo Shahuaya', 'Diez Canseco', 'Ismucancha', 'Utao', 'San Miguel de Huayllacan', 'Quillimpa', 'Agua Nueva', 'Pampacancha', 'Huasmo', 'Ninakaka', 'Santa Teresita', 'Huayoc', 'Huaca Vieja', 'Arpero', 'Jaturpac', 'Ancush', 'Jatun Ogo', 'Shracancha', 'San Luis', 'Ushnuyoc', 'Llaquir', 'Huamanhuachas', 'Altosuyoj', 'Santa Rosa Alta', 'Jamacuna Rumi', 'Mal Paso', 'Palmira', 'Ba??os', 'Tararhua', 'Pucacunga', 'Yarush Pampa', 'Wishash', 'Tomapata', 'Pichiusa Pampa', 'Ruirocorral', 'Paqui Maccha', 'Yanayacu', 'Boca Dorada', 'Pachona', 'Gochapiteg', 'Pumahuain', 'Huacajekatzicunan', 'Jojan Pampa', 'Pallca', 'Shonque', 'Casacancha', 'Quinua Pampa', 'Pascana', 'Divisoria', 'Huariap', 'Carampuquio', 'Carricillo', 'San Lorenzo de Isco', 'Calash / Callash Matanca', 'Pinculluyoc', 'Huancapatar', 'Tikakancha', 'Patahuasi', 'Rucuposo', 'Llanqui', 'Ancahuachanga', 'Nueva Palestina', 'Queropata', 'Meza Pata Grande', 'Cajonpuquio', 'Layatuna', 'Ucrubamba', 'Ultush', 'Mashuapata', 'Huacajekatzicunan', 'San Pedro de Shairicancha', 'Mina Machay', 'Huarahuayuna', 'Cabra Paccha', 'Nueva Esperanza', 'Puente Vizcarra', 'Jircahuayi', 'Gratelli', 'Capillayog', 'Tantash', 'Puyhuancoto', 'Colcap', 'Canyapampa', 'Champapirca', 'Rupahuasi', 'Sogo Pampa', 'Esperanza', 'Sinculo Pampa', 'Santa Isabel', 'Shiripatal', 'Palma Pampas', 'Minas Hercules', 'Copi', 'Shapio', 'Salinas', 'Cruzmiyoj', 'Tambogan', 'Huancapata', 'Matasahuay', 'Jatun Tararhua', 'Racacha', 'Mina Machay', 'Utao', 'Micho', 'Minagaga', 'Huanucay', 'Malpaso', 'Cochapata', 'Raypa Nuevo/Raypa', 'Rurca', 'Piruro Pampa', 'Buenavista', 'Vilcabamba', 'Mosqueta', 'Huerco', 'Micaela Bastidas', 'Tranca', 'Castillo de Chavin', 'Nuevo Nazaret', 'Tuma', 'Jacagaranan', 'Jinchin', 'Ararcocha', 'Marayoc', 'Huarupampa (Jauna Huarupampa)', 'Mina Rure', 'Quimsa Cocha', 'Willcacocha', 'Chincho', 'Acollan', 'Pincuran', 'Arpero', 'Yuncan', 'Racri', 'Parparac', 'Muchcay', 'Yanayaquillo', 'Rucashcahuay / San Pedro', 'Mata Rumi', 'Yuyapichis', 'Nauma', 'Huiscormashanan', 'Maravilla Pampa', 'Papahuasi', 'Cashash', 'Santa Cayan', 'Tranca Ruri', 'Hidrogpampa', 'Cruz Pampa', 'Tunanpuquio', 'Ampicallan', 'Llamahuanca', 'Cedro', 'Curcurian', 'Ichic Huacash', 'Shahuanga', 'Miraflores', 'Cochabamba', 'Jircan', 'Huamanhuachas', 'Curhuas', 'Parigaga', 'Huamachacra', 'Buena Vista de Mara??on', 'Guepagaga', 'Muchcay', 'Pacuash', 'Quiruncancha', 'Ruiro Ogo', 'Pacsag', 'Ascap', 'Condorpata', 'Malpaso', 'Hualmish', 'Tayapata', 'Huantas', 'Chiches', 'La Merced', 'Poirac', 'Tupuc', 'Ushno Loma', 'Pampa Raju', 'Canyapampa', 'Romero', 'Chacapampa', 'Rio Colorado', 'Tayapata', 'Llamallushcay', 'Santa Rosa', 'Gesgapiteg / Gregopitec', 'Hacienda Huacrache', 'Libertad', 'Jinchin', 'Hacienda Rahuar', 'Llincay', 'Quirua / Quirhua', 'Ana Jara Velasquez', 'San Isidro', 'Carhuamarca', 'San Jeronimo', 'San Gregorio', 'Tincururi', 'Huarahuayuna', 'Porogsajircan', 'Cajon Puquio', 'Jamca', 'Cayan', 'Juchuqui', 'Huacoto 2', 'Sacsa', 'Huaylapuquio', 'Millurumi / Nillorumi', 'Pogoccancha', 'Shayhua', 'Yanajaga', 'Colltumoara', 'Cumbrec', 'Gantopata', 'Patacancha', 'Shincull', 'Piruro', 'Kantucuta', 'Pacogaga', 'Cuntulin', 'Papahuasi', 'Tipishca', 'Chicu Ruri', 'Guenay', 'Jeshgue', 'Fundo Huallcan', 'San Antonio', 'Pushan', 'Tres unidos', 'Cumaria', 'Mariam', 'Calash', 'Huaguin', 'Mito Mito', 'Toroucro', 'Huanac', 'Porogsajircan', 'Shunqui', 'Ullucuran', 'Huacna', 'Gargash', 'Villa Tanin', 'San Jeronimo', 'Sacapampa', 'Nueva Esmeralda', 'Ichi Ragra', 'Mashra', 'Tranca', 'Bombon Machay', 'Shuro', 'Uchipampa', 'Pampacancha', 'Huanca Jircan', 'La Florida', 'Cajon Puquio', 'Toroucro', 'Huanhuas', 'Runatucoc', 'Pamiahuasi', 'Jircayacu', 'Huanhuas', 'Utko / Huncko', 'Chinchancucho', 'Goshgoyoc', 'Agorragra', 'Markan / Markan Pampa', 'Carpicalla', 'Huanac', 'Romero', 'Gollumya', 'Huacoto', 'Ahuicuna', 'Monte Huasi', 'Pampahuasi', 'Pichizan', 'Tranca (Gasgabamba)', 'Liriopata', 'Urcush', 'Chiches', 'Huishcapata', 'Pampa Machay', 'Chuchupuquio', 'Ullucuran', 'Jirca Cancha', 'Salvia Punta', 'Pishan', 'San Martin', 'Checyo', 'Huirush', 'Bombon', 'Huitca', 'Tayapampa', 'Naryash', 'San Cristobal de Yupanapampa', 'Jircacancha', 'San Martin De Porres', 'Marnac Chico', 'Siglo Cruz', 'Huantarpunta', 'Huaycho', 'Checyo', 'Patash', 'Puyihuhuan', 'Maynas', 'Paltac', 'Jamacuna Rumi', 'Caururo', 'Cascapampa', 'Santa Rosa', 'Hacienda Rurec', 'Chacwapuquio', 'Pulga Machay', 'Mina San Martin', 'Chontas', 'Huaycho', 'Yanacocha', 'Ishanca', 'Tauranca', 'Campa', 'Pirish', 'Acapa', 'Rucojato', 'Quehuacoran', 'Pacracoto', 'Huallipampa', 'Paurun', 'Pirish', 'Pichgas', 'Campalloc', 'San Pedro', 'Huaracayoc', 'Habaschacra', 'Tayaragra', 'Colquiragra', 'Cascapampa', 'Salinas', 'Miraflores', 'Mallqui', 'Puquio Grande', 'Tucupiquim', 'Tranca Ragra', 'Neguip', 'San Francisco Bajo', 'Molino', 'Pampa Hermosa', 'Chombor', 'Tayaucro', 'Nacatu Pampa', 'Llanca', 'Pampa Chaca', 'Pariacancha', 'San Cristoball de Chamanayoc', 'Mina Mayaya', 'Buenos Aires', 'Parias', 'Huascacocha', 'Campa', 'Apicuna', 'Huacracuin', 'Racri', 'Pariagaga', 'Paras Pampa', 'El Alto', 'Rio Negro', 'San Juan', 'Paltay Niyoj', 'Llunyapa', 'Kiskin', 'Ututo Pampa', 'Cachca', 'Ambosh', 'Huacpara', 'Santa Catalina', 'San Antonio', 'San Cristoball de Chamanayoc', 'Tuajirca', 'Ticte', 'Pipish', 'Libron', '?�aupamarca', 'Cania', 'Marias', 'Pichgas', 'Parias', 'Chicururi', 'Pacracoto', 'Jetga', 'Ichicragra', 'Huacracuin', 'Coto', 'Manca Peque', 'Tornacocha', 'Montiyoc', 'Salvia Punta', 'Patacancha', 'Santa Isabel', 'Bandera Blanca', 'Chihuirume', 'Huaripampa', 'Guelgay Machay', 'La Florida', 'Chiuche', 'La Merced', 'Shuntupara / Shuturara', 'Nuevo Progreso', 'Machocas', 'Rio Colorado', 'Tayapata', 'Tucushragra', 'Chocopata', 'Condor Puquio', 'Yacu Pampa', 'Santa Ana', 'Playa Grande', 'Cormilla', 'Yacu Pampa', 'Chaupimarca', 'Contadera', 'San Ildefonso', 'Campalloc', 'Poco Poco', 'Lacacocha', 'Yuraccacca', 'Apicuna']\n"
     ]
    }
   ],
   "source": [
    "import csv\n",
    "import math\n",
    "import heapq as hq\n",
    "def readFile(filename):\n",
    "    dictionary = {}\n",
    "    with open(filename,encoding='utf-8-sig') as csvfile:\n",
    "        file = csv.reader(csvfile, delimiter=',')\n",
    "        contador=1\n",
    "        for row in file:\n",
    "                elem = {}\n",
    "                elem[\"id\"]=row[0]\n",
    "                elem[\"name\"] = row[1]\n",
    "                elem[\"x\"] = float(row[2])\n",
    "                elem[\"y\"] = float(row[3])\n",
    "                dictionary[contador] = elem\n",
    "                contador+=1\n",
    "                del elem\n",
    "    return dictionary\n",
    "\n",
    "\n",
    "def calculateDistance(x1,y1,x2,y2):        \n",
    "    return ((x1-x2)**2 + (y1-y2)**2)**(0.5)\n",
    "    \n",
    "def makingDictonarys(filename):\n",
    "    dictionary = readFile(filename)\n",
    "    distancia=[]\n",
    "    nombre=[]\n",
    "    for i in range(1,len(dictionary)+1):\n",
    "        aux=[]\n",
    "        aux2=[]\n",
    "        for j in range(1,len(dictionary)+1):\n",
    "            aux.append((int(dictionary[j][\"id\"]),calculateDistance(float(dictionary[i][\"x\"]),float(dictionary[i][\"y\"]), float(dictionary[j][\"x\"]),float(dictionary[j][\"y\"]))))\n",
    "            aux2.append(dictionary[j][\"name\"])\n",
    "            #aux.append((j,calculateDistance(float(dictionary[i][\"x\"]),float(dictionary[i][\"y\"]), float(dictionary[j][\"x\"]),float(dictionary[j][\"y\"]))))\n",
    "        distancia.append(aux)\n",
    "        nombre.append(aux2)\n",
    "        del aux\n",
    "        del aux2\n",
    "    #print(nombre)\n",
    "    prim(distancia,nombre)\n",
    "\n",
    "def prim(distancia,nombre):\n",
    "    n = len(distancia)\n",
    "    dist = [math.inf]*n\n",
    "    path = [None]*n\n",
    "    visited = [False]*n\n",
    "    q = []\n",
    "    hq.heappush(q, (0, 0))\n",
    "    contador=0\n",
    "    while len(q) > 0:\n",
    "        #print(contador)\n",
    "        contador+=1\n",
    "        _, u = hq.heappop(q)\n",
    "        if not visited[u]:\n",
    "            visited[u] = True\n",
    "            for v, w in distancia[u]:\n",
    "                if not visited[v] and w < dist[v] and w!=0 :\n",
    "                    dist[v] = w\n",
    "                    path[v] = nombre[v][u]\n",
    "                    hq.heappush(q, (w, v))\n",
    "    print(path)\n",
    "\n",
    "makingDictonarys('datasetA.csv')\n"
   ]
  },
  {
   "cell_type": "code",
   "execution_count": null,
   "metadata": {},
   "outputs": [],
   "source": []
  }
 ],
 "metadata": {
  "kernelspec": {
   "display_name": "Python 3",
   "language": "python",
   "name": "python3"
  },
  "language_info": {
   "codemirror_mode": {
    "name": "ipython",
    "version": 3
   },
   "file_extension": ".py",
   "mimetype": "text/x-python",
   "name": "python",
   "nbconvert_exporter": "python",
   "pygments_lexer": "ipython3",
   "version": "3.7.3"
  }
 },
 "nbformat": 4,
 "nbformat_minor": 2
}

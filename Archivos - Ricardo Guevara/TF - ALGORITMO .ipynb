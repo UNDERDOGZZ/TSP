{
 "cells": [
  {
   "cell_type": "code",
   "execution_count": 11,
   "metadata": {},
   "outputs": [],
   "source": [
    "import heapq as hq\n",
    "import math\n",
    "import csv\n",
    "\n",
    "def readCPxDto(fileName):\n",
    "    dictionary = {}\n",
    "    cp = {}\n",
    "    places = []\n",
    "    with open(fileName) as csvfile:\n",
    "        file = csv.reader(csvfile, delimiter=',')\n",
    "        idElem = -1\n",
    "        for row in file:\n",
    "            if idElem != -1:\n",
    "                elem = {}\n",
    "                elem[\"name\"] = row[5]\n",
    "                elem[\"x\"] = float(row[15])\n",
    "                elem[\"y\"] = float(row[16])\n",
    "                if row[1] not in dictionary:\n",
    "                    dictionary[row[1]] = []\n",
    "                    dictionary[row[1]].append(elem)\n",
    "                    cp[row[1]] = []\n",
    "                    cp[row[1]].append(elem['name'])\n",
    "                    places.append(row[1])\n",
    "                else:\n",
    "                    dictionary[row[1]].append(elem)\n",
    "                    cp[row[1]].append(elem['name'])\n",
    "                del elem\n",
    "            \n",
    "            idElem += 1\n",
    "        \n",
    "    return dictionary, places, cp\n"
   ]
  },
  {
   "cell_type": "code",
   "execution_count": 12,
   "metadata": {},
   "outputs": [],
   "source": [
    "def calculateDistance(x1,y1,x2,y2):        \n",
    "    return ((x1-x2)**2 + (y1-y2)**2)**(0.5)"
   ]
  },
  {
   "cell_type": "code",
   "execution_count": 121,
   "metadata": {},
   "outputs": [],
   "source": [
    "def prim(distancia,nombre, dptos):\n",
    "    for a in range(len(dptos)):\n",
    "        dpto = dptos[a]\n",
    "        n = len(distancia[dpto])\n",
    "        dist = [math.inf]*n\n",
    "        path = [None]*n\n",
    "        visited = [False]*n\n",
    "        q = []\n",
    "        hq.heappush(q, (0, 0))\n",
    "        contador=0\n",
    "        while len(q) > 0:\n",
    "            #print(contador)\n",
    "            contador+=1\n",
    "            _, u = hq.heappop(q)\n",
    "            if not visited[u]:\n",
    "                visited[u] = True\n",
    "                for v, w in distancia[dpto][u]:\n",
    "                    if not visited[v] and w < dist[v] and w!=0 :\n",
    "                        dist[v] = w\n",
    "                        path[v] = nombre[dpto][v][u]\n",
    "                        hq.heappush(q, (w, v))\n",
    "        print(path)\n"
   ]
  },
  {
   "cell_type": "code",
   "execution_count": 127,
   "metadata": {},
   "outputs": [],
   "source": [
    "def allDistances(filename):\n",
    "    placesDictionary, places, cp = readCPxDto('test.csv')\n",
    "    dis = {}\n",
    "    abc = {}\n",
    "    for a in range(len(places)):\n",
    "        dpto = places[a]\n",
    "        dis[dpto] = []\n",
    "        abc[dpto] = []\n",
    "        for b in range (len(cp[dpto])):\n",
    "            aux = []\n",
    "            aux2 = []\n",
    "            for c in range (len(cp[dpto])):\n",
    "                aux.append((int(c), calculateDistance(float(placesDictionary[dpto][b][\"x\"]),float(placesDictionary[dpto][b][\"y\"]), float(placesDictionary[dpto][c][\"x\"]),float(placesDictionary[dpto][c][\"y\"]))))\n",
    "                aux2.append(placesDictionary[dpto][c][\"name\"])\n",
    "            dis[dpto].append(aux)\n",
    "            abc[dpto].append(aux2)\n",
    "            del aux\n",
    "            del aux2\n",
    "    #print(abc['AYACUCHO'])\n",
    "    prim(dis, abc, places)\n",
    "    "
   ]
  },
  {
   "cell_type": "code",
   "execution_count": 128,
   "metadata": {},
   "outputs": [
    {
     "name": "stdout",
     "output_type": "stream",
     "text": [
      "[None, 'Campo Verde']\n",
      "[None, 'Sumac Wassi']\n",
      "[None, 'Selva Verde', 'Chancarani']\n",
      "[None]\n",
      "[None]\n",
      "[None, 'Bella Vista']\n",
      "[None, 'Alto Milagro', 'Loma Blanca', 'Nuevo Zona More', 'Fundo Rio Frio', 'Hacienda Santa Filomena', 'Huayanay', 'Hacienda Santa Filomena']\n",
      "[None]\n",
      "[None, 'Andahuaylas']\n",
      "[None, 'Asociación de Vivienda Paraiso II', 'Surapunco', 'Ccilccata']\n",
      "[None, 'Nuevo San Jose', 'Mirador', 'Nuevo Gramalotal']\n",
      "[None, 'Tomaque', 'Pindal', 'Higuerones', 'El Horcon La Piria', 'Tomaque', 'El Horcon La Piria', 'La Vega El Puente', 'La Vega El Puente', 'Cruce La Coypa', 'El Paraiso']\n",
      "[None, 'Huruhuacca', 'Ampotaje', 'Huruhuacca']\n",
      "[None, 'Anansaya', 'Calachaca']\n"
     ]
    }
   ],
   "source": [
    "allDistances('test.csv')"
   ]
  },
  {
   "cell_type": "code",
   "execution_count": 124,
   "metadata": {},
   "outputs": [],
   "source": [
    "def prim1(distancia,nombre):\n",
    "    n = len(distancia)\n",
    "    dist = [math.inf]*n\n",
    "    path = [None]*n\n",
    "    visited = [False]*n\n",
    "    q = []\n",
    "    hq.heappush(q, (0, 0))\n",
    "    contador=0\n",
    "    while len(q) > 0:\n",
    "        print(contador)\n",
    "        contador+=1\n",
    "        _, u = hq.heappop(q)\n",
    "        if not visited[u]:\n",
    "            visited[u] = True\n",
    "            for v, w in distancia[u]:\n",
    "                if not visited[v] and w < dist[v] and w!=0 :\n",
    "                    dist[v] = w\n",
    "                    path[v] = nombre[v][u]\n",
    "                    hq.heappush(q, (w, v))\n",
    "    print(path)"
   ]
  },
  {
   "cell_type": "code",
   "execution_count": null,
   "metadata": {},
   "outputs": [],
   "source": []
  }
 ],
 "metadata": {
  "kernelspec": {
   "display_name": "Python 3",
   "language": "python",
   "name": "python3"
  },
  "language_info": {
   "codemirror_mode": {
    "name": "ipython",
    "version": 3
   },
   "file_extension": ".py",
   "mimetype": "text/x-python",
   "name": "python",
   "nbconvert_exporter": "python",
   "pygments_lexer": "ipython3",
   "version": "3.7.3"
  }
 },
 "nbformat": 4,
 "nbformat_minor": 2
}
